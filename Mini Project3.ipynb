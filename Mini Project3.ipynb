{
 "cells": [
  {
   "cell_type": "markdown",
   "id": "3dc536da-59fe-4376-99bc-66a8faf520cb",
   "metadata": {},
   "source": [
    "## Mini Project 3"
   ]
  },
  {
   "cell_type": "markdown",
   "id": "ca1ee97c-63b6-46cd-a3ab-72e7d313307a",
   "metadata": {},
   "source": [
    "### Import Data"
   ]
  },
  {
   "cell_type": "code",
   "execution_count": 4,
   "id": "0305a99d-2441-4a5e-a859-4186879ffda0",
   "metadata": {},
   "outputs": [],
   "source": [
    "import pandas as pd\n",
    "import matplotlib.pyplot as plt\n",
    "import seaborn as sns"
   ]
  },
  {
   "cell_type": "code",
   "execution_count": 5,
   "id": "81ea5266-3ec6-4082-b9c5-096fa969c1c6",
   "metadata": {},
   "outputs": [],
   "source": [
    "df = pd.read_csv(\"Titanic Dataset.csv\", header=None)"
   ]
  },
  {
   "cell_type": "markdown",
   "id": "18f4a093-a57c-4dd3-b81c-ce9e43d92d32",
   "metadata": {},
   "source": [
    "### Split Single Column into Multiple Columns"
   ]
  },
  {
   "cell_type": "code",
   "execution_count": 6,
   "id": "8e80a2dc-b5a6-4655-9b42-a2ef861b07e0",
   "metadata": {},
   "outputs": [
    {
     "name": "stdout",
     "output_type": "stream",
     "text": [
      "0 survived pclass     sex   age sibsp parch     fare embarked  class    who  \\\n",
      "0        0      3    male  22.0     1     0     7.25        S  Third    man   \n",
      "1        1      1  female  38.0     1     0  71.2833        C  First  woman   \n",
      "2        1      3  female  26.0     0     0    7.925        S  Third  woman   \n",
      "3        1      1  female  35.0     1     0     53.1        S  First  woman   \n",
      "4        0      3    male  35.0     0     0     8.05        S  Third    man   \n",
      "\n",
      "0 adult_male deck  embark_town alive  alone  \n",
      "0       True       Southampton    no  False  \n",
      "1      False    C    Cherbourg   yes  False  \n",
      "2      False       Southampton   yes   True  \n",
      "3      False    C  Southampton   yes  False  \n",
      "4       True       Southampton    no   True  \n"
     ]
    }
   ],
   "source": [
    "df = df[0].str.split(\",\", expand=True)\n",
    "\n",
    "# Set the first row as the header\n",
    "df.columns = df.iloc[0]\n",
    "df = df.drop(index=0).reset_index(drop=True)\n",
    "\n",
    "df.columns = df.columns.str.strip().str.lower()\n",
    "\n",
    "print(df.head())\n"
   ]
  },
  {
   "cell_type": "markdown",
   "id": "3b65a3a0-7187-49ba-af8e-4a8fd365df16",
   "metadata": {},
   "source": [
    "#### Question 1\n",
    "##### What is the survival rate of passengers?"
   ]
  },
  {
   "cell_type": "code",
   "execution_count": 7,
   "id": "427adbf5-464b-4a08-acd6-e012ba8f1347",
   "metadata": {},
   "outputs": [
    {
     "name": "stdout",
     "output_type": "stream",
     "text": [
      "survived\n",
      "0    61.616162\n",
      "1    38.383838\n",
      "Name: proportion, dtype: float64\n"
     ]
    }
   ],
   "source": [
    "survival_rate = df['survived'].value_counts(normalize=True) * 100\n",
    "print(survival_rate)"
   ]
  },
  {
   "cell_type": "code",
   "execution_count": 19,
   "id": "e3e31a79-b2a9-4b7f-b563-4b0fa62745f1",
   "metadata": {},
   "outputs": [
    {
     "data": {
      "image/png": "[encoded data removed]",
      "text/plain": [
       "<Figure size 640x480 with 1 Axes>"
      ]
     },
     "metadata": {},
     "output_type": "display_data"
    }
   ],
   "source": [
    "# Group by gender and calculate survival rate\n",
    "survival_by_gender = df.groupby('sex')['survived'].mean() * 100\n",
    "\n",
    "# Plot the result\n",
    "survival_by_gender.plot(kind='bar', title='Survival by Gender', color=['lightpink', 'lightblue'])\n",
    "plt.ylabel('Survival Rate (%)')\n",
    "plt.xlabel('Gender')\n",
    "plt.tight_layout()\n",
    "plt.show()\n"
   ]
  },
  {
   "cell_type": "markdown",
   "id": "ec8e5723-4c2d-41f2-8d67-12c73be210b1",
   "metadata": {},
   "source": [
    "#### Question 2\n",
    "##### What is the Gender Distribution of Passengers"
   ]
  },
  {
   "cell_type": "code",
   "execution_count": 8,
   "id": "e65c16b2-cb12-4e55-ada8-35982f23f3c6",
   "metadata": {},
   "outputs": [
    {
     "name": "stdout",
     "output_type": "stream",
     "text": [
      "sex\n",
      "male      577\n",
      "female    314\n",
      "Name: count, dtype: int64\n"
     ]
    }
   ],
   "source": [
    "gender_distribution = df['sex'].value_counts()\n",
    "print(gender_distribution)"
   ]
  },
  {
   "cell_type": "markdown",
   "id": "ff48b0a3-3d33-4372-a0fe-5a1ba1e56326",
   "metadata": {},
   "source": [
    "#### How does Survival Rate Differ by Class"
   ]
  },
  {
   "cell_type": "markdown",
   "id": "442c4084-dbac-4742-9787-873bd78f14c9",
   "metadata": {},
   "source": [
    "#### Question 3\n",
    "##### How does survival rate differ by class?"
   ]
  },
  {
   "cell_type": "code",
   "execution_count": 9,
   "id": "db2ca642-5963-4f47-aeaf-fd02cc8cb92d",
   "metadata": {},
   "outputs": [
    {
     "name": "stdout",
     "output_type": "stream",
     "text": [
      "0  survived  pclass     sex   age  sibsp  parch     fare embarked  class  \\\n",
      "0         0       3    male  22.0      1      0   7.2500        S  Third   \n",
      "1         1       1  female  38.0      1      0  71.2833        C  First   \n",
      "2         1       3  female  26.0      0      0   7.9250        S  Third   \n",
      "3         1       1  female  35.0      1      0  53.1000        S  First   \n",
      "4         0       3    male  35.0      0      0   8.0500        S  Third   \n",
      "\n",
      "0    who adult_male deck  embark_town alive  alone  \n",
      "0    man       True       Southampton    no  False  \n",
      "1  woman      False    C    Cherbourg   yes  False  \n",
      "2  woman      False       Southampton   yes   True  \n",
      "3  woman      False    C  Southampton   yes  False  \n",
      "4    man       True       Southampton    no   True  \n"
     ]
    }
   ],
   "source": [
    "numeric_cols = ['survived', 'pclass', 'age', 'sibsp', 'parch', 'fare']\n",
    "df[numeric_cols] = df[numeric_cols].apply(pd.to_numeric, errors='coerce')\n",
    "\n",
    "print(df.head())"
   ]
  },
  {
   "cell_type": "code",
   "execution_count": 10,
   "id": "cdb36c9b-faeb-4be4-964c-d491ae7c30c0",
   "metadata": {},
   "outputs": [
    {
     "name": "stdout",
     "output_type": "stream",
     "text": [
      "\n",
      "Survival Rate by Class (%):\n",
      " pclass\n",
      "1    62.962963\n",
      "2    47.282609\n",
      "3    24.236253\n",
      "Name: survived, dtype: float64\n"
     ]
    }
   ],
   "source": [
    "survival_by_class = df.groupby('pclass')['survived'].mean() * 100\n",
    "print(\"\\nSurvival Rate by Class (%):\\n\", survival_by_class)"
   ]
  },
  {
   "cell_type": "markdown",
   "id": "41ee4508-be3c-4cea-98b4-857093c15eab",
   "metadata": {},
   "source": [
    "#### Question 4\n",
    "##### What is the distribution of passenger ages?"
   ]
  },
  {
   "cell_type": "code",
   "execution_count": 11,
   "id": "d6925812-b79a-486a-a98a-cb4bc560ad48",
   "metadata": {},
   "outputs": [
    {
     "data": {
      "image/png": "[encoded data removed]",
      "text/plain": [
       "<Figure size 600x400 with 1 Axes>"
      ]
     },
     "metadata": {},
     "output_type": "display_data"
    }
   ],
   "source": [
    "ages = df['age'].dropna().astype(float)\n",
    "\n",
    "# Plot histogram as percentage\n",
    "plt.figure(figsize=(6, 4))\n",
    "counts, bins, patches = plt.hist(ages, bins=20, color='lightgreen', edgecolor='black', weights=[100 / len(ages)] * len(ages))\n",
    "\n",
    "plt.title(\"Distribution of Passenger Ages (%)\")\n",
    "plt.xlabel(\"Age\")\n",
    "plt.ylabel(\"Percentage of Passengers\")\n",
    "plt.tight_layout()\n",
    "plt.show()"
   ]
  },
  {
   "cell_type": "markdown",
   "id": "68eb3947-9126-4a98-b14a-cd8cd888d604",
   "metadata": {},
   "source": [
    "#### Question 5\n",
    "How many passengers embarked from each location?"
   ]
  },
  {
   "cell_type": "code",
   "execution_count": 12,
   "id": "3a8a111e-06b1-4197-9229-8975e0fd0ec6",
   "metadata": {},
   "outputs": [
    {
     "name": "stdout",
     "output_type": "stream",
     "text": [
      "Counts by Embarkation Point:\n",
      " embarked\n",
      "S    644\n",
      "C    168\n",
      "Q     77\n",
      "       2\n",
      "Name: count, dtype: int64\n",
      "\n",
      "Total Embarked Passengers: 891\n"
     ]
    }
   ],
   "source": [
    "embarked_counts = df['embarked'].value_counts()\n",
    "print(\"Counts by Embarkation Point:\\n\", embarked_counts)\n",
    "print(\"\\nTotal Embarked Passengers:\", embarked_counts.sum())"
   ]
  },
  {
   "cell_type": "markdown",
   "id": "90e57acf-81a1-4621-8d1d-45d7495b75fc",
   "metadata": {},
   "source": [
    "#### Question 6\n",
    "##### What is the average fare paid per class?"
   ]
  },
  {
   "cell_type": "code",
   "execution_count": 31,
   "id": "80c519b3-2ce0-439f-914b-ce2a31b636a0",
   "metadata": {},
   "outputs": [
    {
     "name": "stdout",
     "output_type": "stream",
     "text": [
      "pclass\n",
      "1    84.154687\n",
      "2    20.662183\n",
      "3    13.675550\n",
      "Name: fare, dtype: float64\n"
     ]
    }
   ],
   "source": [
    "avg_fare_per_class = df.groupby('pclass')['fare'].mean()\n",
    "print(avg_fare_per_class)"
   ]
  },
  {
   "cell_type": "markdown",
   "id": "8e3de887-681b-4a58-b8fc-49e8eb20737f",
   "metadata": {},
   "source": [
    "#### Question 7\n",
    "##### How does gender affect survival rates?"
   ]
  },
  {
   "cell_type": "code",
   "execution_count": 32,
   "id": "c9bf6eba-5a51-4da1-95bf-6c6564a35854",
   "metadata": {},
   "outputs": [
    {
     "name": "stdout",
     "output_type": "stream",
     "text": [
      "sex\n",
      "female    74.203822\n",
      "male      18.890815\n",
      "Name: survived, dtype: float64\n"
     ]
    }
   ],
   "source": [
    "gender_survival_rate = df.groupby('sex')['survived'].mean() * 100\n",
    "print(gender_survival_rate)"
   ]
  },
  {
   "cell_type": "markdown",
   "id": "c9bed860-ae83-4b03-b9b0-a3eb7e9faf47",
   "metadata": {},
   "source": [
    "#### Question 8\n",
    "##### What is the correlation between fare and survival?"
   ]
  },
  {
   "cell_type": "code",
   "execution_count": 37,
   "id": "e4200db1-0099-448d-8dcb-42c71304cbf9",
   "metadata": {},
   "outputs": [
    {
     "name": "stdout",
     "output_type": "stream",
     "text": [
      "0.2573065223849626\n"
     ]
    }
   ],
   "source": [
    "fare_survival_corr = df[['fare', 'survived']].corr().loc['fare', 'survived']\n",
    "print(fare_survival_corr)"
   ]
  },
  {
   "cell_type": "markdown",
   "id": "4032b671-5907-40bf-8712-5093bb1eb7da",
   "metadata": {},
   "source": [
    "#### Question 9\n",
    "#####  How does the number of siblings/spouses aboard affect survival?"
   ]
  },
  {
   "cell_type": "code",
   "execution_count": 36,
   "id": "77ea1f01-bcf2-4174-b922-5a127784d37e",
   "metadata": {},
   "outputs": [
    {
     "name": "stdout",
     "output_type": "stream",
     "text": [
      "sibsp\n",
      "0    34.539474\n",
      "1    53.588517\n",
      "2    46.428571\n",
      "3    25.000000\n",
      "4    16.666667\n",
      "5     0.000000\n",
      "8     0.000000\n",
      "Name: survived, dtype: float64\n"
     ]
    }
   ],
   "source": [
    "sibsp_survival_rate = df.groupby('sibsp')['survived'].mean() * 100\n",
    "print(sibsp_survival_rate)"
   ]
  },
  {
   "cell_type": "markdown",
   "id": "c152ccfd-059a-4069-a810-ff3d4994c1b5",
   "metadata": {},
   "source": [
    "#### Question 10\n",
    "##### What is the age distribution by class?"
   ]
  },
  {
   "cell_type": "code",
   "execution_count": 13,
   "id": "8912857a-cc1f-4cb1-b893-32d469a699c7",
   "metadata": {},
   "outputs": [
    {
     "name": "stdout",
     "output_type": "stream",
     "text": [
      "pclass\n",
      "1    38.233441\n",
      "2    29.877630\n",
      "3    25.140620\n",
      "Name: age, dtype: float64\n"
     ]
    }
   ],
   "source": [
    "age_by_class = df.groupby('pclass')['age'].mean()\n",
    "print(age_by_class)"
   ]
  },
  {
   "cell_type": "markdown",
   "id": "aa351f23-eca5-4409-ac77-847afa3dde88",
   "metadata": {},
   "source": [
    "#### Question 11\n",
    "##### What is the survival rate by embarkation point?"
   ]
  },
  {
   "cell_type": "code",
   "execution_count": 14,
   "id": "81be504f-db82-464c-861d-d3934648250b",
   "metadata": {},
   "outputs": [
    {
     "name": "stdout",
     "output_type": "stream",
     "text": [
      "embarked\n",
      "     100.000000\n",
      "C     55.357143\n",
      "Q     38.961039\n",
      "S     33.695652\n",
      "Name: survived, dtype: float64\n"
     ]
    }
   ],
   "source": [
    "survival_by_embark = df.groupby('embarked')['survived'].mean() * 100\n",
    "print(survival_by_embark)"
   ]
  },
  {
   "cell_type": "markdown",
   "id": "1dc09067-4d0b-4c22-96a0-aa995f215742",
   "metadata": {},
   "source": [
    "#### Question 12\n",
    "##### What is the impact of having parents/children aboard on survival?"
   ]
  },
  {
   "cell_type": "code",
   "execution_count": 35,
   "id": "92b5588d-4c8d-4d2a-9f58-ea5fba820d9c",
   "metadata": {},
   "outputs": [
    {
     "name": "stdout",
     "output_type": "stream",
     "text": [
      "parch\n",
      "0    34.365782\n",
      "1    55.084746\n",
      "2    50.000000\n",
      "3    60.000000\n",
      "4     0.000000\n",
      "5    20.000000\n",
      "6     0.000000\n",
      "Name: survived, dtype: float64\n"
     ]
    }
   ],
   "source": [
    "parch_survival_rate = df.groupby('parch')['survived'].mean() * 100\n",
    "print(parch_survival_rate)"
   ]
  },
  {
   "cell_type": "markdown",
   "id": "520b1b1b-a028-43b9-b3e7-c90d90eec754",
   "metadata": {},
   "source": [
    "#### Project Summary"
   ]
  },
  {
   "cell_type": "markdown",
   "id": "eb69adfa-bd00-43a3-8bcc-c1186290478a",
   "metadata": {},
   "source": [
    "\n",
    "###### This project explores the famous Titanic passenger dataset, focusing on uncovering patterns related to survival, passenger demographics, and boarding details using Python libraries like Pandas, and Matplotlib.\n",
    "\n",
    "##### Key Tasks and Insights:\n",
    "###### 1. Data Preparation:\n",
    "\tLoaded a CSV file where data was initially stored in a single comma-separated column.\n",
    "\tSplit the column into multiple columns for structured analysis.\n",
    "\tCleaned and converted appropriate data types (e.g., `age`, `fare` as float).\n",
    "###### 2. Survival Analysis:\n",
    "\tCalculated overall survival rate.\n",
    "\tCompared survival rates by passenger class (`pclass`), gender, and embarkation point.\n",
    "###### 3. Data Visualization:\n",
    "\tCreated a histogram of passenger ages, labelling each bar with percentage values.\n",
    "\tUsed bar plots to show embarkation counts and total numbers.\n",
    "\tEmphasized percentage distribution for better interpretability.\n",
    "###### 4. Error Handling and Debugging:\n",
    "\tResolved errors due to incorrect column names and data types.\n",
    "\tHandled `Key Error` and `Type Error` from misformatted data during analysis.\n",
    "###### 5. Embarkation Analysis:\n",
    "\tCounted passengers by embarkation points (`S`, `C`, `Q`).\n",
    "\tSummarized total number of passengers who boarded the ship.\n",
    "###### Outcome:\n",
    "The project provided insights into who survived the Titanic disaster and highlighted how factors like class, age, sex, and embarkation point influenced survival. It also demonstrated data cleaning, transformation, visualization, and summary reporting techniques key skills in data analysis.\n",
    "\n",
    "###### Conclusion\n",
    "Survival:      \tHigher in 1st class, women, and children.\n",
    "Age:\t         \tMost passengers were young adults.\n",
    "Embarkation:  \tMajority of passengers boarded at Southampton.\n",
    "Gender Gap:   Clear disparity in survival based on gender (women favored).\n",
    "Class Divide: \tWealth/class directly influenced survival odds.\n"
   ]
  },
  {
   "cell_type": "code",
   "execution_count": null,
   "id": "92e3df55-6d85-49ca-ac3e-5b3437ace39e",
   "metadata": {},
   "outputs": [],
   "source": []
  }
 ],
 "metadata": {
  "kernelspec": {
   "display_name": "Python [conda env:base] *",
   "language": "python",
   "name": "conda-base-py"
  },
  "language_info": {
   "codemirror_mode": {
    "name": "ipython",
    "version": 3
   },
   "file_extension": ".py",
   "mimetype": "text/x-python",
   "name": "python",
   "nbconvert_exporter": "python",
   "pygments_lexer": "ipython3",
   "version": "3.12.7"
  }
 },
 "nbformat": 4,
 "nbformat_minor": 5
}
